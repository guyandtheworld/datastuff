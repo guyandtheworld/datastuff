{
 "cells": [
  {
   "cell_type": "markdown",
   "metadata": {},
   "source": [
    "# A/B Testing"
   ]
  },
  {
   "cell_type": "code",
   "execution_count": 13,
   "metadata": {},
   "outputs": [],
   "source": [
    "import numpy as np\n",
    "import pandas as pd\n",
    "import seaborn as sns\n",
    "\n",
    "import matplotlib.pyplot as plt\n",
    "\n",
    "\n",
    "control = pd.read_csv(\"dataset/control_data.csv\")\n",
    "experiment = pd.read_csv(\"dataset/experiment_data.csv\")"
   ]
  },
  {
   "cell_type": "markdown",
   "metadata": {},
   "source": [
    "### Free-Trial Experiment\n",
    "\n",
    "Enrolling into an Udacity Course, with the overall business goal of maximizing course completion by students.\n",
    "\n",
    "[Dataset Here](https://www.kaggle.com/tammyrotem/ab-tests-with-python?scriptVersionId=2109873)\n",
    "\n",
    "#### Conditions Before Change\n",
    "Two Options\n",
    "* \"start free trial\", Asks for Credit Card Information, Can cancel after 14 days without payment.\n",
    "* \"access course materials\", free.\n",
    "\n",
    "#### Conditions After Change\n",
    "Asked how much time they had to devote\n",
    "* 5< usual checkout process\n",
    "* 5> message for greater time commitment, suggestion to access course for free.\n",
    "\n",
    "#### Hypothesis\n",
    "To reduce the number of frusterated students who quit in the first 14 days, without significantly reducing the students going beyond 14 days and finishing the course.\n",
    "\n",
    "### Metric\n",
    "We choose two metrics\n",
    "* Invariate: A metric which doesn't change that much after the experiment as a sanity check.\n",
    "* Evaluation: This is the metric we would use to test the outcome of the experiment.\n",
    "\n",
    "<img src=\"https://wordstream-files-prod.s3.amazonaws.com/s3fs-public/styles/simple_image/public/images/adwords-industry-benchmarks-average-ctr.jpg\" alt=\"Drawing\" style=\"width: 700px; height: 500px;\"/>\n",
    "\n",
    "<img src=\"https://wordstream-files-prod.s3.amazonaws.com/s3fs-public/styles/simple_image/public/images/adwords-industry-benchmarks-average-conversion-rate.jpg\" alt=\"Drawing\" style=\"width: 600px; height: 700px;\"/>\n",
    "\n",
    "#### Invariate Metrics\n",
    "* number of cookies: unique daily cookies (Ck, 3000)\n",
    "* number of clicks on free trial: unique daily cookies clicked (Cl, 240)\n",
    "* free trial button CTR: 240/3000, Ck/Cl\n",
    "\n",
    "#### Evaluation Metrics\n",
    "* gross conversion: enrolled/Cl\n",
    "* retention: paid/enrolled\n",
    "* net conversion: paid/Cl\n",
    "\n",
    "#### Baseline\n",
    "\n",
    "| Item | Description  | Estimator  |\n",
    "|:-:|:-:|:-:|\n",
    "| Number of cookies | Daily unique cookies to view course overview page  | 40,000  |\n",
    "| Number of clicks | Daily unique cookies to click Free Trial button  | 3,200 |\n",
    "| Number of enrollments | Free Trial enrollments per day  | 660  |\n",
    "| CTP | CTP on Free Trial button  | 0.08  |\n",
    "| Gross Conversion | Probability of enrolling, given a click  | 0.20625  |\n",
    "| Retention | Probability of payment, given enrollment  | 0.53  |\n",
    "| Net Conversion | Probability of payment, given click  | 0.109313 |"
   ]
  },
  {
   "cell_type": "code",
   "execution_count": 14,
   "metadata": {},
   "outputs": [],
   "source": [
    "#Let's place this estimators into a dictionary for ease of use later\n",
    "baseline = {\"Cookies\":40000,\"Clicks\":3200,\"Enrollments\":660,\"CTP\":0.08,\"GConversion\":0.20625,\n",
    "           \"Retention\":0.53,\"NConversion\":0.109313}"
   ]
  },
  {
   "cell_type": "markdown",
   "metadata": {},
   "source": [
    "Once we collected these estimates, we should estimate the standard deviation of a metric, this is computed for sample size calculations and confidence intervals for our results. The more variant a metric is, the harder it is to reach a significant result. "
   ]
  },
  {
   "cell_type": "code",
   "execution_count": 15,
   "metadata": {},
   "outputs": [
    {
     "data": {
      "text/plain": [
       "{'Cookies': 5000,\n",
       " 'Clicks': 400.0,\n",
       " 'Enrollments': 82.5,\n",
       " 'CTP': 0.08,\n",
       " 'GConversion': 0.20625,\n",
       " 'Retention': 0.53,\n",
       " 'NConversion': 0.109313}"
      ]
     },
     "execution_count": 15,
     "metadata": {},
     "output_type": "execute_result"
    }
   ],
   "source": [
    "# scale the metrics from 40,000 to 5000\n",
    "\n",
    "baseline['Cookies'] = 5000\n",
    "baseline['Clicks'] = baseline['Clicks'] * 5000/40000\n",
    "baseline['Enrollments'] = baseline['Enrollments'] * 5000/40000\n",
    "baseline"
   ]
  },
  {
   "cell_type": "markdown",
   "metadata": {},
   "source": [
    "In order to estimate variance analytically, we can assume metrics which are probabilities ( p^ ) are binomially distributed\n",
    "#### Gross Conversion\n",
    "The baseline probability for Gross Conversion can be calculated by the number of users to enroll in a free trial divided by the number of cookies clicking the free trial. In other words, the probability of enrollment given a click. "
   ]
  },
  {
   "cell_type": "code",
   "execution_count": 16,
   "metadata": {},
   "outputs": [
    {
     "data": {
      "text/plain": [
       "0.0202"
      ]
     },
     "execution_count": 16,
     "metadata": {},
     "output_type": "execute_result"
    }
   ],
   "source": [
    "GC = {}\n",
    "GC['d_min'] = 0.01\n",
    "GC['p'] = baseline['GConversion']\n",
    "#p is given in this case - or we could calculate it from enrollments/clicks\n",
    "GC[\"n\"] = baseline[\"Clicks\"]\n",
    "GC['sd'] = round(np.sqrt((GC[\"p\"]*(1-GC[\"p\"]))/GC[\"n\"]), 4)\n",
    "GC['sd']"
   ]
  },
  {
   "cell_type": "markdown",
   "metadata": {},
   "source": [
    "#### Retention\n",
    "The baseline probability for retention is the number of paying users (enrolled after 14 free days) divided by the number of total enrolled users. In other words, the probability of payment, given enrollment. "
   ]
  },
  {
   "cell_type": "code",
   "execution_count": 19,
   "metadata": {},
   "outputs": [
    {
     "data": {
      "text/plain": [
       "0.0549"
      ]
     },
     "execution_count": 19,
     "metadata": {},
     "output_type": "execute_result"
    }
   ],
   "source": [
    "R = {}\n",
    "R['d_min'] = 0.01\n",
    "R['p'] = baseline['Retention']\n",
    "#p is given in this case - or we could calculate it from paid/enrollments\n",
    "R[\"n\"] = baseline[\"Enrollments\"]\n",
    "R['sd'] = round(np.sqrt((R[\"p\"]*(1-R[\"p\"]))/R[\"n\"]), 4)\n",
    "R['sd']"
   ]
  },
  {
   "cell_type": "markdown",
   "metadata": {},
   "source": [
    "#### Net Conversion\n",
    "The baseline probability for the net conversion is the number of paying users divided by the number of cookies that clicked the free trial button. In other words, the probability of payment, given a click."
   ]
  },
  {
   "cell_type": "code",
   "execution_count": 20,
   "metadata": {},
   "outputs": [
    {
     "data": {
      "text/plain": [
       "0.0156"
      ]
     },
     "execution_count": 20,
     "metadata": {},
     "output_type": "execute_result"
    }
   ],
   "source": [
    "NC = {}\n",
    "NC['d_min'] = 0.01\n",
    "NC['p'] = baseline['NConversion']\n",
    "#p is given in this case - or we could calculate it from paid/clicked\n",
    "NC[\"n\"] = baseline[\"Clicks\"]\n",
    "NC['sd'] = round(np.sqrt((NC[\"p\"]*(1-NC[\"p\"]))/NC[\"n\"]), 4)\n",
    "NC['sd']"
   ]
  },
  {
   "cell_type": "code",
   "execution_count": null,
   "metadata": {},
   "outputs": [],
   "source": []
  }
 ],
 "metadata": {
  "kernelspec": {
   "display_name": "Python [conda env:root] *",
   "language": "python",
   "name": "conda-root-py"
  },
  "language_info": {
   "codemirror_mode": {
    "name": "ipython",
    "version": 3
   },
   "file_extension": ".py",
   "mimetype": "text/x-python",
   "name": "python",
   "nbconvert_exporter": "python",
   "pygments_lexer": "ipython3",
   "version": "3.7.3"
  }
 },
 "nbformat": 4,
 "nbformat_minor": 2
}
